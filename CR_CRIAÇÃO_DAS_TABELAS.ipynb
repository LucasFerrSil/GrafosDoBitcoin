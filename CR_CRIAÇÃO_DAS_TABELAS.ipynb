{
  "nbformat": 4,
  "nbformat_minor": 0,
  "metadata": {
    "colab": {
      "provenance": [],
      "gpuType": "T4",
      "authorship_tag": "ABX9TyM2SpUMkoPrpDtEV9L8KNL8",
      "include_colab_link": true
    },
    "kernelspec": {
      "name": "python3",
      "display_name": "Python 3"
    },
    "language_info": {
      "name": "python"
    },
    "accelerator": "GPU"
  },
  "cells": [
    {
      "cell_type": "markdown",
      "metadata": {
        "id": "view-in-github",
        "colab_type": "text"
      },
      "source": [
        "<a href=\"https://colab.research.google.com/github/LucasFerrSil/GrafosDoBitcoin/blob/main/CR_CRIA%C3%87%C3%83O_DAS_TABELAS.ipynb\" target=\"_parent\"><img src=\"https://colab.research.google.com/assets/colab-badge.svg\" alt=\"Open In Colab\"/></a>"
      ]
    },
    {
      "cell_type": "code",
      "source": [
        "#Para os grafos representando o ano inteiro, fazer função distribuição discreta para o grau de cada input e de cada output\n",
        "#dps criar grafos com um número consideravel de arestas e nós e buscar a lei de potencia\n",
        "\n",
        "def distribuicao(lista):\n",
        "  minl = min(lista)\n",
        "  maxl = max(lista)\n",
        "  n = int(len(lista)**(1/2))\n",
        "  inter = ((maxl-minl)/n)\n",
        "  x = []\n",
        "  for i in range(n):\n",
        "    v = 0\n",
        "    for j in range(len(lista)):\n",
        "      if(minl+inter*i <= lista[j] and lista[j] <= (minl+inter*(i+1))):\n",
        "        v += 1\n",
        "    x.append(v)\n",
        "  soma = sum(x)\n",
        "  f = [x[i]/soma for i in range(len(x))]\n",
        "  intervalo = [[minl+inter*i,minl+inter*(i+1)] for i in range(n)]\n",
        "  return intervalo,f"
      ],
      "metadata": {
        "id": "gXZKM1IiimIq"
      },
      "execution_count": null,
      "outputs": []
    },
    {
      "cell_type": "code",
      "source": [
        "import requests\n",
        "import networkx as nx\n",
        "import matplotlib.pyplot as plt\n",
        "import pandas as pd\n",
        "\n",
        "from google.colab import drive\n",
        "drive.mount('/content/drive')"
      ],
      "metadata": {
        "colab": {
          "base_uri": "https://localhost:8080/"
        },
        "id": "dfBsDCS-H6L1",
        "outputId": "b438262c-7316-464d-a44d-4e6e70e2b208"
      },
      "execution_count": null,
      "outputs": [
        {
          "output_type": "stream",
          "name": "stdout",
          "text": [
            "Mounted at /content/drive\n"
          ]
        }
      ]
    },
    {
      "cell_type": "code",
      "source": [
        "hash = pd.read_excel('/content/drive/MyDrive/Colab Notebooks/HashBlocks.xlsx')\n",
        "hashBlocks = list(hash['Hash'][0:10])\n",
        "display(hashBlocks)"
      ],
      "metadata": {
        "id": "Zw-D2ZOc__6Y",
        "colab": {
          "base_uri": "https://localhost:8080/",
          "height": 191
        },
        "outputId": "d4613bf8-2dc2-40eb-a05e-37cf01463a41"
      },
      "execution_count": null,
      "outputs": [
        {
          "output_type": "display_data",
          "data": {
            "text/plain": [
              "['000000000000000000065afb7a27cd94412ef1ebbaf91f0f9d8bb891ff165d90',\n",
              " '00000000000000000003cf7e32b1e6e614f48f9e31adafd58031156dc748a6b6',\n",
              " '00000000000000000001695fa2f44e60467c36ddfa67e849f44f765b96c98307',\n",
              " '0000000000000000000438733a43c41f0111819de5e1744e9855649b3d824165',\n",
              " '00000000000000000004f312afaed7e79d6e0e2e17eaf891c2d5943255bbb0ae',\n",
              " '00000000000000000001ebdf5823090f8f6f46db59549f027b452b90392edaba',\n",
              " '000000000000000000047d6e72dd6e0a0a1ac4e4101a0d89b625480162ba9363',\n",
              " '0000000000000000000247ebc21bcc220f73a39848779c10866b3ce78e42c97c',\n",
              " '00000000000000000000b93369ca030defdc146dbbc93e1c9741e91d0957d7e4',\n",
              " '00000000000000000002f2ca4135e9d1e836b234f344e63bc916b07ba0783025']"
            ]
          },
          "metadata": {}
        }
      ]
    },
    {
      "cell_type": "code",
      "execution_count": null,
      "metadata": {
        "id": "0Re9wo2K1xLt"
      },
      "outputs": [],
      "source": [
        "api_url = ['https://blockchain.info/rawblock/' + str(hashBlocks[i]) for i in range(len(hashBlocks))]\n",
        "response = [requests.get(api_url[i]).json() for i in range(len(api_url))]\n",
        "tx_data = [response[i]['tx'] for i in range(len(response))]"
      ]
    },
    {
      "cell_type": "code",
      "source": [
        "df = pd.DataFrame(tx_data)\n",
        "df.to_csv('/content/drive/MyDrive/Nova pasta/tranxinfo2023.csv')"
      ],
      "metadata": {
        "id": "eMKq0W8m8CjS"
      },
      "execution_count": null,
      "outputs": []
    },
    {
      "cell_type": "code",
      "source": [
        "df = pd.read_csv('/content/drive/MyDrive/Nova pasta/tranxinfo2023.csv')\n",
        "tx_data2 = df.values\n",
        "tx_data3 = []\n",
        "for i in range(len(tx_data2)):\n",
        "  vetor = [(transacao) for transacao in tx_data2[i] if transacao != None]\n",
        "  tx_data3.append(vetor)"
      ],
      "metadata": {
        "id": "0pbdU7Bw2fuA"
      },
      "execution_count": null,
      "outputs": []
    },
    {
      "cell_type": "code",
      "source": [
        "#Inputs e outputs atraves da Blockchain.com\n",
        "\n",
        "addresses_input = []\n",
        "addresses_output = []\n",
        "addresses_input_t = []\n",
        "addresses_output_t = []\n",
        "for i in range(len(tx_data)):\n",
        "  inputs = []\n",
        "  outputs = []\n",
        "  input = []\n",
        "  output = []\n",
        "  for j in range(len(tx_data[i])):\n",
        "    for k in range(len(tx_data[i][j]['inputs'])):\n",
        "      if(j != 0):\n",
        "        inputs.append([tx_data[i][j]['inputs'][k]['prev_out']['addr'],tx_data[i][j]['inputs'][k]['prev_out']['value'],tx_data[i][j]['hash']])\n",
        "        input.append([tx_data[i][j]['inputs'][k]['prev_out']['addr'],tx_data[i][j]['inputs'][k]['prev_out']['value']])\n",
        "      else:\n",
        "        inputs.append(['Inicial',0,tx_data[i][j]['hash']])\n",
        "        input.append(['Inicial',0])\n",
        "    for w in range(len(tx_data[i][j]['out'])):\n",
        "      if(tx_data[i][j]['out'][w]['spent'] == True):\n",
        "        outputs.append([tx_data[i][j]['out'][w]['addr'],tx_data[i][j]['out'][w]['value'],tx_data[i][j]['hash']])\n",
        "        output.append([tx_data[i][j]['out'][w]['addr'],tx_data[i][j]['out'][w]['value']])\n",
        "  addresses_input_t.append(inputs)\n",
        "  addresses_output_t.append(outputs)\n",
        "  addresses_input.append(input)\n",
        "  addresses_output.append(output)"
      ],
      "metadata": {
        "id": "JySixdZs5Voo"
      },
      "execution_count": null,
      "outputs": []
    },
    {
      "cell_type": "code",
      "source": [
        "inputs_tabela = pd.DataFrame(addresses_input_t)\n",
        "outputs_tabela = pd.DataFrame(addresses_output_t)\n",
        "inputs_tabela.to_csv('/content/drive/MyDrive/Nova pasta/inputTx2023.csv',index=False)\n",
        "outputs_tabela.to_csv('/content/drive/MyDrive/Nova pasta/outputTx2023.csv',index=False)\n",
        "\n",
        "input = pd.DataFrame(addresses_input)\n",
        "output = pd.DataFrame(addresses_output)\n",
        "input.to_csv('/content/drive/MyDrive/Nova pasta/inputs2023.csv',index=False)\n",
        "output.to_csv('/content/drive/MyDrive/Nova pasta/outputs2023.csv',index=False)"
      ],
      "metadata": {
        "id": "PWJVe0ZGx8x4"
      },
      "execution_count": null,
      "outputs": []
    },
    {
      "cell_type": "code",
      "source": [
        "def tabela(vi,vo):\n",
        "  valores_output = [vo[i][1] for i in range(len(vo))]\n",
        "  valores_input = [vi[i][1] for i in range(len(vi))]\n",
        "  soma_input = sum(valores_input)\n",
        "  lista = []\n",
        "  for i in range(len(vi)):\n",
        "    termo = []\n",
        "    for j in range(len(vo)):\n",
        "      k = valores_output[j]/soma_input\n",
        "      lista.append(k*valores_input[i])\n",
        "  edges = []\n",
        "  for i in range(len(vi)):\n",
        "    for j in range(len(vo)):\n",
        "      edges.append([vi[i][0],vo[j][0]])\n",
        "  for i in range(len(lista)):\n",
        "    edges[i].append(lista[i])\n",
        "  return edges"
      ],
      "metadata": {
        "id": "tY0-uEQhDlDB"
      },
      "execution_count": null,
      "outputs": []
    },
    {
      "cell_type": "code",
      "source": [
        "e = []\n",
        "for i in range(len(addresses_input)):\n",
        "    e.append(tabela(addresses_input[i],addresses_output[i]))"
      ],
      "metadata": {
        "id": "gHkJmcLGBKvn"
      },
      "execution_count": null,
      "outputs": []
    },
    {
      "cell_type": "code",
      "source": [
        "input = [df['Input'][i] for i in range(len(df['Input']))]\n",
        "output = [[df['Output'][i],df['Valor'][i]] for i in range(len(df['Input']))]\n",
        "copyinput = input\n",
        "copyoutput = output\n",
        "lista = []\n",
        "i = 0\n",
        "while i != len(copyinput):\n",
        "  indices = []\n",
        "  termo = []\n",
        "  input_analisado = copyinput[i]\n",
        "  termo.append(copyinput[i])\n",
        "  termo.append(copyoutput[i])\n",
        "  for k in range(len(copyinput)):\n",
        "    if(k != i and copyinput[k]==copyinput[i]):\n",
        "      indices.append(k)\n",
        "  for indice in indices:\n",
        "    termo.append(output[indice])\n",
        "    copyinput.remove(input_analisado)\n",
        "  lista.append(termo)\n",
        "  i += 1"
      ],
      "metadata": {
        "id": "NMiJpsM2Dal9"
      },
      "execution_count": null,
      "outputs": []
    },
    {
      "cell_type": "code",
      "source": [
        "edges = []\n",
        "for i in range(len(lista)):\n",
        "  for j in range(1,len(lista[i])):\n",
        "    termo = (lista[i][0],lista[i][j][0],lista[i][j][1])\n",
        "    edges.append(termo)"
      ],
      "metadata": {
        "colab": {
          "base_uri": "https://localhost:8080/"
        },
        "id": "WIeio5uyGuRl",
        "outputId": "c474fdb0-3eda-445e-9857-2096f17c6224"
      },
      "execution_count": null,
      "outputs": [
        {
          "output_type": "stream",
          "name": "stdout",
          "text": [
            "('1Q1DJtJYTXc1QBQWYHYqZhPPyMykzpfSAq', '1J4xzYnppUBR46tewFxMDWCsQkMJG3hHaU', 260000.0)\n",
            "('1Q1DJtJYTXc1QBQWYHYqZhPPyMykzpfSAq', 'bc1qwj0lzfqn0ydhr0dpec5pur00tmkcyh3lsg7d4c', 472172.0)\n",
            "('1Q1DJtJYTXc1QBQWYHYqZhPPyMykzpfSAq', '1Q1DJtJYTXc1QBQWYHYqZhPPyMykzpfSAq', 502815.0)\n",
            "('1Q1DJtJYTXc1QBQWYHYqZhPPyMykzpfSAq', 'bc1qakeyagrj395yfvf3vayxwwmzps699mq9uh9nn2', 451872.0)\n",
            "('1Q1DJtJYTXc1QBQWYHYqZhPPyMykzpfSAq', '127nE9ME5jLMrjHp299nC5KzBFF8ExqkcP', 21843542.0)\n"
          ]
        }
      ]
    }
  ]
}