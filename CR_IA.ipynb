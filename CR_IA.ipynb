{
  "nbformat": 4,
  "nbformat_minor": 0,
  "metadata": {
    "colab": {
      "provenance": [],
      "authorship_tag": "ABX9TyNXmjFnh/d1cdY16r8k0Lyv",
      "include_colab_link": true
    },
    "kernelspec": {
      "name": "python3",
      "display_name": "Python 3"
    },
    "language_info": {
      "name": "python"
    }
  },
  "cells": [
    {
      "cell_type": "markdown",
      "metadata": {
        "id": "view-in-github",
        "colab_type": "text"
      },
      "source": [
        "<a href=\"https://colab.research.google.com/github/LucasFerrSil/GrafosDoBitcoin/blob/main/CR_IA.ipynb\" target=\"_parent\"><img src=\"https://colab.research.google.com/assets/colab-badge.svg\" alt=\"Open In Colab\"/></a>"
      ]
    },
    {
      "cell_type": "code",
      "source": [
        "import pandas as pd\n",
        "\n",
        "from google.colab import drive\n",
        "drive.mount('/content/drive')"
      ],
      "metadata": {
        "colab": {
          "base_uri": "https://localhost:8080/"
        },
        "id": "KsHBnrkScF6p",
        "outputId": "50c23b6e-2ba8-4de7-fc38-b1ea6ec11c8b"
      },
      "execution_count": null,
      "outputs": [
        {
          "output_type": "stream",
          "name": "stdout",
          "text": [
            "Mounted at /content/drive\n"
          ]
        }
      ]
    },
    {
      "cell_type": "code",
      "execution_count": null,
      "metadata": {
        "id": "ulWqs4h8bSJy"
      },
      "outputs": [],
      "source": [
        "arestas_2023 = [pd.read_csv(f'/content/drive/My Drive/CR/Edges-2023-0{i}.csv', sep=\";\") if (i not in [7,8]) else pd.read_csv(f'/content/drive/My Drive/CR/Edges-2023-0{i}.csv', sep=\",\") for i in range(1,11)]\n",
        "#arestas_2022 = [pd.read_csv(f'/content/drive/My Drive/CR/Edges-2022-0{i}.csv', sep=\";\") if (i not in [8]) else pd.read_csv(f'/content/drive/My Drive/CR/Edges-2022-0{i}.csv', sep=\",\") for i in range(1,13)]\n",
        "#arestas_2021 = [pd.read_csv(f'/content/drive/My Drive/CR/Edges-2021-0{i}.csv', sep=\";\") for i in range(1,13)]\n",
        "arestas_2013 = [pd.read_csv(f'/content/drive/My Drive/CR/Edges-2013-0{i}.csv', sep=\",\") for i in range(1,13)]"
      ]
    },
    {
      "cell_type": "code",
      "source": [
        "edges_2023 = []\n",
        "for i in range(len(arestas_2023)):\n",
        "  mes = arestas_2023[i]\n",
        "  x = list(mes['Source'])\n",
        "  y = list(mes['Target'])\n",
        "  z = list(mes['Weight'])\n",
        "  for j in range(len(x)):\n",
        "    termo = [x[j],y[j],z[j]]\n",
        "    edges_2023.append(termo)\n",
        "\n",
        "#edges_2022 = []\n",
        "#for i in range(len(arestas_2022)):\n",
        "#  mes = arestas_2022[i]\n",
        "#  x = list(mes['Source'])\n",
        "#  y = list(mes['Target'])\n",
        "#  z = list(mes['Weight'])\n",
        "#  for j in range(len(x)):\n",
        "#    termo = [x[j],y[j],z[j]]\n",
        "#    edges_2022.append(termo)\n",
        "\n",
        "#edges_2021 = []\n",
        "#for i in range(len(arestas_2021)):\n",
        "#  mes = arestas_2021[i]\n",
        "#  x = list(mes['Source'])\n",
        "#  y = list(mes['Target'])\n",
        "#  z = list(mes['Weight'])\n",
        "#  for j in range(len(x)):\n",
        "#    termo = [x[j],y[j],z[j]]\n",
        "#    edges_2021.append(termo)\n",
        "\n",
        "edges_2013 = []\n",
        "for i in range(len(arestas_2013)):\n",
        "  mes = arestas_2013[i]\n",
        "  x = list(mes['Source'])\n",
        "  y = list(mes['Target'])\n",
        "  z = list(mes['Weight'])\n",
        "  for j in range(len(x)):\n",
        "    termo = [x[j],y[j],z[j]]\n",
        "    edges_2013.append(termo)"
      ],
      "metadata": {
        "id": "yNdUmGNkbaWW"
      },
      "execution_count": null,
      "outputs": []
    },
    {
      "cell_type": "code",
      "source": [
        "def id(lista):\n",
        "  id = 0\n",
        "  for i in range(len(lista)):\n",
        "    for j in range(len(lista[0])):\n",
        "      if(type(lista[i][j]) == str):\n",
        "        termo = lista[i][j]\n",
        "        id += 1\n",
        "        for k in range(len(lista)):\n",
        "          for l in range(len(lista[0])):\n",
        "            if(lista[k][l] == termo):\n",
        "              lista[k][l] = id\n",
        "  return lista"
      ],
      "metadata": {
        "id": "osv-ofmAckKv"
      },
      "execution_count": null,
      "outputs": []
    },
    {
      "cell_type": "code",
      "source": [
        "edges2023 = id(edges_2023)\n",
        "#edges2022 = id(edges_2022)\n",
        "#edges2021 = id(edges_2021)\n",
        "edges2013 = id(edges_2013)"
      ],
      "metadata": {
        "id": "ybRFJoYHcpRV"
      },
      "execution_count": null,
      "outputs": []
    },
    {
      "cell_type": "code",
      "source": [
        "df1 = pd.DataFrame(edges_2023,columns=['Source','Target','Weight'])\n",
        "df1.to_csv(\"/content/drive/MyDrive/CR/20233IA.csv\",index=False)\n",
        "\n",
        "#df2 = pd.DataFrame(edges2022)\n",
        "#df2.to_excel(\"/content/drive/MyDrive/CR/2022IA.xlsx\",index=False)\n",
        "\n",
        "#df3 = pd.DataFrame(edges2021)\n",
        "#df3.to_excel(\"/content/drive/MyDrive/CR/2021IA.xlsx\",index=False)\n",
        "\n",
        "df4 = pd.DataFrame(edges_2013,columns=['Source','Target','Weight'])\n",
        "df4.to_csv(\"/content/drive/MyDrive/CR/20133IA.csv\",index=False)"
      ],
      "metadata": {
        "id": "4jBIRCZNGJLZ"
      },
      "execution_count": null,
      "outputs": []
    },
    {
      "cell_type": "code",
      "source": [
        "import seaborn as sns\n",
        "import matplotlib.pyplot as plt\n",
        "\n"
      ],
      "metadata": {
        "id": "WXgNg4GOXL0Y"
      },
      "execution_count": null,
      "outputs": []
    },
    {
      "cell_type": "code",
      "source": [
        "sns.pairplot(df1)\n",
        "plt.show()"
      ],
      "metadata": {
        "id": "bKiBRqpKXJ7J"
      },
      "execution_count": null,
      "outputs": []
    },
    {
      "cell_type": "code",
      "source": [
        "sns.pairplot(df4)\n",
        "plt.show()"
      ],
      "metadata": {
        "id": "dV54vlP1XPPz"
      },
      "execution_count": null,
      "outputs": []
    },
    {
      "cell_type": "code",
      "source": [
        "from sklearn.model_selection import train_test_split as tts\n",
        "from sklearn.linear_model import LinearRegression as LR\n",
        "from sklearn.ensemble import RandomForestRegressor as RFR\n",
        "from sklearn import metrics\n",
        "import numpy as np\n",
        "import matplotlib.pyplot as plt\n",
        "import pandas as pd\n",
        "from sklearn.preprocessing import PolynomialFeatures as PF\n",
        "from sklearn.pipeline import make_pipeline as mp\n",
        "from sklearn.linear_model import Ridge as R\n",
        "from sklearn.linear_model import Lasso as L\n",
        "from sklearn.tree import DecisionTreeRegressor as DTR\n",
        "from google.colab import drive\n",
        "drive.mount('/content/drive')"
      ],
      "metadata": {
        "id": "M_YPZUZvEouv",
        "colab": {
          "base_uri": "https://localhost:8080/"
        },
        "outputId": "b701d323-ca0f-437a-ffd2-a65562f1b0c4"
      },
      "execution_count": null,
      "outputs": [
        {
          "output_type": "stream",
          "name": "stdout",
          "text": [
            "Mounted at /content/drive\n"
          ]
        }
      ]
    },
    {
      "cell_type": "code",
      "source": [
        "df1 = pd.read_excel(\"/content/drive/MyDrive/CR/2023IA.xlsx\")\n",
        "df4 = pd.read_excel(\"/content/drive/MyDrive/CR/2013IA.xlsx\")"
      ],
      "metadata": {
        "id": "nE_6YGS-c7op"
      },
      "execution_count": null,
      "outputs": []
    },
    {
      "cell_type": "code",
      "source": [
        "index2023 = [i for i in range(len(df1))]\n",
        "#index2022 = [i for i in range(len(edges2022))]\n",
        "#index2021 = [i for i in range(len(edges2021))]\n",
        "index2013 = [i for i in range(len(df4))]\n",
        "\n",
        "x2023 = pd.DataFrame(index2023)\n",
        "#x2022 = pd.DataFrame(index2022)\n",
        "#x2021 = pd.DataFrame(index2021)\n",
        "x2013 = pd.DataFrame(index2013)\n",
        "\n",
        "y2023 = df1\n",
        "#y2022 = df2\n",
        "#y2021 = df3\n",
        "y2013 = df4\n",
        "\n",
        "x2023_train, x2023_test, y2023_train, y2023_test = tts(x2023,y2023,test_size=0.2,random_state = 1)\n",
        "#x2022_train, x2022_test, y2022_train, y2022_test = tts(x2022,y2022,test_size=0.3,random_state = 1)\n",
        "#x2021_train, x2021_test, y2021_train, y2021_test = tts(x2021,y2021,test_size=0.3,random_state = 1)\n",
        "x2013_train, x2013_test, y2013_train, y2013_test = tts(x2013,y2013,test_size=0.2,random_state = 1)"
      ],
      "metadata": {
        "id": "Por-ZlqGaj-l"
      },
      "execution_count": null,
      "outputs": []
    },
    {
      "cell_type": "markdown",
      "source": [
        "2023"
      ],
      "metadata": {
        "id": "gsNGKQn7LDIU"
      }
    },
    {
      "cell_type": "code",
      "source": [
        "#Treino da IA\n",
        "lin_reg2023 = LR()\n",
        "rf_reg2023 = RFR()\n",
        "tree2023 = DTR()\n",
        "degree = 2\n",
        "poli_2023 = mp(PF(degree), LR())\n",
        "alpha = 0.1\n",
        "ridge2023 = R(alpha=alpha)\n",
        "alpha = 0.1\n",
        "lasso2023 = L(alpha=alpha)\n",
        "\n",
        "lasso2023.fit(x2023_train,y2023_train)\n",
        "poli_2023.fit(x2023_train,y2023_train)\n",
        "lin_reg2023.fit(x2023_train,y2023_train)\n",
        "rf_reg2023.fit(x2023_train,y2023_train)\n",
        "ridge2023.fit(x2023_train,y2023_train)\n",
        "tree2023.fit(x2023_train,y2023_train)"
      ],
      "metadata": {
        "id": "DodvRhGSIr5j",
        "colab": {
          "base_uri": "https://localhost:8080/",
          "height": 75
        },
        "outputId": "f04a5b6f-920a-4fdb-d6e2-52cf9181c2bc"
      },
      "execution_count": null,
      "outputs": [
        {
          "output_type": "execute_result",
          "data": {
            "text/plain": [
              "RandomForestRegressor()"
            ],
            "text/html": [
              "<style>#sk-container-id-1 {color: black;background-color: white;}#sk-container-id-1 pre{padding: 0;}#sk-container-id-1 div.sk-toggleable {background-color: white;}#sk-container-id-1 label.sk-toggleable__label {cursor: pointer;display: block;width: 100%;margin-bottom: 0;padding: 0.3em;box-sizing: border-box;text-align: center;}#sk-container-id-1 label.sk-toggleable__label-arrow:before {content: \"▸\";float: left;margin-right: 0.25em;color: #696969;}#sk-container-id-1 label.sk-toggleable__label-arrow:hover:before {color: black;}#sk-container-id-1 div.sk-estimator:hover label.sk-toggleable__label-arrow:before {color: black;}#sk-container-id-1 div.sk-toggleable__content {max-height: 0;max-width: 0;overflow: hidden;text-align: left;background-color: #f0f8ff;}#sk-container-id-1 div.sk-toggleable__content pre {margin: 0.2em;color: black;border-radius: 0.25em;background-color: #f0f8ff;}#sk-container-id-1 input.sk-toggleable__control:checked~div.sk-toggleable__content {max-height: 200px;max-width: 100%;overflow: auto;}#sk-container-id-1 input.sk-toggleable__control:checked~label.sk-toggleable__label-arrow:before {content: \"▾\";}#sk-container-id-1 div.sk-estimator input.sk-toggleable__control:checked~label.sk-toggleable__label {background-color: #d4ebff;}#sk-container-id-1 div.sk-label input.sk-toggleable__control:checked~label.sk-toggleable__label {background-color: #d4ebff;}#sk-container-id-1 input.sk-hidden--visually {border: 0;clip: rect(1px 1px 1px 1px);clip: rect(1px, 1px, 1px, 1px);height: 1px;margin: -1px;overflow: hidden;padding: 0;position: absolute;width: 1px;}#sk-container-id-1 div.sk-estimator {font-family: monospace;background-color: #f0f8ff;border: 1px dotted black;border-radius: 0.25em;box-sizing: border-box;margin-bottom: 0.5em;}#sk-container-id-1 div.sk-estimator:hover {background-color: #d4ebff;}#sk-container-id-1 div.sk-parallel-item::after {content: \"\";width: 100%;border-bottom: 1px solid gray;flex-grow: 1;}#sk-container-id-1 div.sk-label:hover label.sk-toggleable__label {background-color: #d4ebff;}#sk-container-id-1 div.sk-serial::before {content: \"\";position: absolute;border-left: 1px solid gray;box-sizing: border-box;top: 0;bottom: 0;left: 50%;z-index: 0;}#sk-container-id-1 div.sk-serial {display: flex;flex-direction: column;align-items: center;background-color: white;padding-right: 0.2em;padding-left: 0.2em;position: relative;}#sk-container-id-1 div.sk-item {position: relative;z-index: 1;}#sk-container-id-1 div.sk-parallel {display: flex;align-items: stretch;justify-content: center;background-color: white;position: relative;}#sk-container-id-1 div.sk-item::before, #sk-container-id-1 div.sk-parallel-item::before {content: \"\";position: absolute;border-left: 1px solid gray;box-sizing: border-box;top: 0;bottom: 0;left: 50%;z-index: -1;}#sk-container-id-1 div.sk-parallel-item {display: flex;flex-direction: column;z-index: 1;position: relative;background-color: white;}#sk-container-id-1 div.sk-parallel-item:first-child::after {align-self: flex-end;width: 50%;}#sk-container-id-1 div.sk-parallel-item:last-child::after {align-self: flex-start;width: 50%;}#sk-container-id-1 div.sk-parallel-item:only-child::after {width: 0;}#sk-container-id-1 div.sk-dashed-wrapped {border: 1px dashed gray;margin: 0 0.4em 0.5em 0.4em;box-sizing: border-box;padding-bottom: 0.4em;background-color: white;}#sk-container-id-1 div.sk-label label {font-family: monospace;font-weight: bold;display: inline-block;line-height: 1.2em;}#sk-container-id-1 div.sk-label-container {text-align: center;}#sk-container-id-1 div.sk-container {/* jupyter's `normalize.less` sets `[hidden] { display: none; }` but bootstrap.min.css set `[hidden] { display: none !important; }` so we also need the `!important` here to be able to override the default hidden behavior on the sphinx rendered scikit-learn.org. See: https://github.com/scikit-learn/scikit-learn/issues/21755 */display: inline-block !important;position: relative;}#sk-container-id-1 div.sk-text-repr-fallback {display: none;}</style><div id=\"sk-container-id-1\" class=\"sk-top-container\"><div class=\"sk-text-repr-fallback\"><pre>RandomForestRegressor()</pre><b>In a Jupyter environment, please rerun this cell to show the HTML representation or trust the notebook. <br />On GitHub, the HTML representation is unable to render, please try loading this page with nbviewer.org.</b></div><div class=\"sk-container\" hidden><div class=\"sk-item\"><div class=\"sk-estimator sk-toggleable\"><input class=\"sk-toggleable__control sk-hidden--visually\" id=\"sk-estimator-id-1\" type=\"checkbox\" checked><label for=\"sk-estimator-id-1\" class=\"sk-toggleable__label sk-toggleable__label-arrow\">RandomForestRegressor</label><div class=\"sk-toggleable__content\"><pre>RandomForestRegressor()</pre></div></div></div></div></div>"
            ]
          },
          "metadata": {},
          "execution_count": 9
        }
      ]
    },
    {
      "cell_type": "code",
      "source": [
        "#Teste IA\n",
        "\n",
        "test_lin2023 = lin_reg2023.predict(x2023_test)\n",
        "test_rf2023 = rf_reg2023.predict(x2023_test)\n",
        "test_tree2023 = tree2023.predict(x2023_test)\n",
        "test_lasso2023 = lasso2023.predict(x2023_test)\n",
        "test_poli2023 = ridge2023.predict(x2023_test)\n",
        "test_ridge2023 = poli_2023.predict(x2023_test)\n",
        "\n",
        "r2_lin2023 = metrics.r2_score(y2023_test,test_lin2023)\n",
        "rsme_lin2023 = np.sqrt(metrics.mean_squared_error(y2023_test,test_lin2023))\n",
        "\n",
        "r2_rf2023 = metrics.r2_score(y2023_test,test_rf2023)\n",
        "rsme_rf2023 = np.sqrt(metrics.mean_squared_error(y2023_test,test_rf2023))\n",
        "\n",
        "r2_tree2023 = metrics.r2_score(y2023_test,test_tree2023)\n",
        "rsme_tree2023 = np.sqrt(metrics.mean_squared_error(y2023_test,test_tree2023))\n",
        "\n",
        "r2_lasso2023 = metrics.r2_score(y2023_test,test_lasso2023)\n",
        "rsme_lasso2023 = np.sqrt(metrics.mean_squared_error(y2023_test,test_lasso2023))\n",
        "\n",
        "r2_ridge2023 = metrics.r2_score(y2023_test,test_ridge2023)\n",
        "rsme_ridge2023 = np.sqrt(metrics.mean_squared_error(y2023_test,test_ridge2023))\n",
        "\n",
        "r2_poli2023 = metrics.r2_score(y2023_test,test_poli2023)\n",
        "rsme_poli2023 = np.sqrt(metrics.mean_squared_error(y2023_test,test_poli2023))"
      ],
      "metadata": {
        "id": "EOxtqR8YItEJ"
      },
      "execution_count": null,
      "outputs": []
    },
    {
      "cell_type": "code",
      "source": [
        "print(\"R2:\")\n",
        "print('Lin',r2_lin2023)\n",
        "print('rf',r2_rf2023)\n",
        "print('tree',r2_tree2023)\n",
        "print('lasso',r2_lasso2023)\n",
        "print('ridge',r2_ridge2023)\n",
        "print('poli',r2_poli2023)\n",
        "print(\"RSME:\")\n",
        "print('Lin',rsme_lin2023)\n",
        "print('rf',rsme_rf2023)\n",
        "print('tree',rsme_tree2023)\n",
        "print('lasso',rsme_lasso2023)\n",
        "print('ridge',rsme_ridge2023)\n",
        "print('poli',rsme_poli2023)"
      ],
      "metadata": {
        "id": "9jnSbletIxFQ",
        "colab": {
          "base_uri": "https://localhost:8080/"
        },
        "outputId": "17c18e56-bfba-4a8a-ddb8-505b883c8e7d"
      },
      "execution_count": null,
      "outputs": [
        {
          "output_type": "stream",
          "name": "stdout",
          "text": [
            "R2:\n",
            "Lin 0.6358504245524669\n",
            "rf 0.502726580910614\n",
            "tree 0.28271312388064107\n",
            "lasso 0.6358504245525161\n",
            "ridge 0.3701912627315019\n",
            "poli 0.6358504245524669\n",
            "RSME:\n",
            "Lin 305182132.4115934\n",
            "rf 367873270.89765656\n",
            "tree 442119952.3340602\n",
            "lasso 305182132.4115934\n",
            "ridge 305288612.65371305\n",
            "poli 305182132.4115934\n"
          ]
        }
      ]
    },
    {
      "cell_type": "code",
      "source": [
        "dados_gerar = [i for i in range(1,171913)]\n",
        "\n",
        "xr = pd.DataFrame(dados_gerar)\n",
        "xrt, xrtt, y2023_train, y2023_test = tts(xr,y2023,test_size=0.0581692959,random_state = 1)\n",
        "\n",
        "gerado2023 = lasso2023.predict(xrtt)\n",
        "df = pd.DataFrame(gerado2023, columns=['Source','Target','Weight'])\n",
        "df.to_csv('/content/drive/MyDrive/CR/resumo2023.csv',index=False)"
      ],
      "metadata": {
        "id": "Y8HbejwSjiZ-"
      },
      "execution_count": null,
      "outputs": []
    },
    {
      "cell_type": "markdown",
      "source": [
        "2022"
      ],
      "metadata": {
        "id": "SUU42KozLEjC"
      }
    },
    {
      "cell_type": "code",
      "source": [
        "#Treino da IA\n",
        "lin_reg2022 = LR()\n",
        "rf_reg2022 = RFR()\n",
        "\n",
        "lin_reg2022.fit(x2022_train,y2022_train)\n",
        "rf_reg2022.fit(x2022_train,y2022_train)"
      ],
      "metadata": {
        "id": "6jD2lfjHLGXK"
      },
      "execution_count": null,
      "outputs": []
    },
    {
      "cell_type": "code",
      "source": [
        "#Teste IA\n",
        "\n",
        "test_lin2022 = lin_reg2022.predict(x2022_test)\n",
        "test_rf2022 = rf_reg2022.predit(x2022_test)\n",
        "\n",
        "r2_lin2022 = metrics.r2_score(y2022_test,test_lin2022)\n",
        "rsme_lin2022 = np.sqrt(metrics.mean_squared_error(y2022_test,test_lin2022))\n",
        "\n",
        "r2_rf2022 = metrics.r2_score(y2022_test,test_rf2022)\n",
        "rsme_rf2022 = np.sqrt(metrics.mean_squared_error(y2022_test,test_rf2022))"
      ],
      "metadata": {
        "id": "FOf5_z0CLGkK"
      },
      "execution_count": null,
      "outputs": []
    },
    {
      "cell_type": "code",
      "source": [
        "print(\"R2:\")\n",
        "print(r2_lin2022)\n",
        "print(r2_rf2022)\n",
        "print(\"RSME:\")\n",
        "print(rsme_lin2022)\n",
        "print(rsme_rf2022)"
      ],
      "metadata": {
        "id": "igQ0aUTELGrN"
      },
      "execution_count": null,
      "outputs": []
    },
    {
      "cell_type": "code",
      "source": [
        "df_resultado2022 = pd.DataFrame()\n",
        "df_resultado2022['y_teste'] = y2022_test\n",
        "df_resultado2022['y_previsao_rf'] = test_rf2022\n",
        "df_resultado2022['y_previsao_lin'] = test_lin2022\n",
        "df_resultado2022 = df_resultado2022.reset_index(drop=True)\n",
        "fig = plt.figure(figsize=(15,5))\n",
        "\n",
        "sns.lineplot(data=df_resultado2022)\n",
        "plt.show()\n",
        "display(df_resultado2022)"
      ],
      "metadata": {
        "id": "mzl9JF-5LGxz"
      },
      "execution_count": null,
      "outputs": []
    },
    {
      "cell_type": "markdown",
      "source": [
        "2021"
      ],
      "metadata": {
        "id": "lWTRvqbALLbc"
      }
    },
    {
      "cell_type": "code",
      "source": [
        "#Treino da IA\n",
        "lin_reg2021 = LR()\n",
        "rf_reg2021 = RFR()\n",
        "\n",
        "lin_reg2021.fit(x2021_train,y2021_train)\n",
        "rf_reg2021.fit(x2021_train,y2021_train)"
      ],
      "metadata": {
        "id": "ySRii1h-LM0E"
      },
      "execution_count": null,
      "outputs": []
    },
    {
      "cell_type": "code",
      "source": [
        "#Teste IA\n",
        "\n",
        "test_lin2021 = lin_reg2021.predict(x2021_test)\n",
        "test_rf2021 = rf_reg2021.predit(x2021_test)\n",
        "\n",
        "r2_lin2021 = metrics.r2_score(y2021_test,test_lin2021)\n",
        "rsme_lin2021 = np.sqrt(metrics.mean_squared_error(y2021_test,test_lin2021))\n",
        "\n",
        "r2_rf2021 = metrics.r2_score(y2021_test,test_rf2021)\n",
        "rsme_rf2021 = np.sqrt(metrics.mean_squared_error(y2021_test,test_rf2021))"
      ],
      "metadata": {
        "id": "Vri3bb0WLM5k"
      },
      "execution_count": null,
      "outputs": []
    },
    {
      "cell_type": "code",
      "source": [
        "print(\"R2:\")\n",
        "print(r2_lin2021)\n",
        "print(r2_rf2021)\n",
        "print(\"RSME:\")\n",
        "print(rsme_lin2021)\n",
        "print(rsme_rf2021)"
      ],
      "metadata": {
        "id": "BKcmNlQ2LM_E"
      },
      "execution_count": null,
      "outputs": []
    },
    {
      "cell_type": "code",
      "source": [
        "df_resultado2021 = pd.DataFrame()\n",
        "df_resultado2021['y_teste'] = y2021_test\n",
        "df_resultado2021['y_previsao_rf'] = test_rf2021\n",
        "df_resultado2021['y_previsao_lin'] = test_lin2021\n",
        "df_resultado2021 = df_resultado2021.reset_index(drop=True)\n",
        "fig = plt.figure(figsize=(15,5))\n",
        "\n",
        "sns.lineplot(data=df_resultado2021)\n",
        "plt.show()\n",
        "display(df_resultado2021)"
      ],
      "metadata": {
        "id": "7gND8vwHLNDP"
      },
      "execution_count": null,
      "outputs": []
    },
    {
      "cell_type": "markdown",
      "source": [
        "2013"
      ],
      "metadata": {
        "id": "Wv6R_dKrLSLm"
      }
    },
    {
      "cell_type": "code",
      "source": [
        "#Treino da IA\n",
        "lin_reg2013 = LR()\n",
        "rf_reg2013 = RFR()\n",
        "tree2013 = DTR()\n",
        "degree = 2\n",
        "poli_2013 = mp(PF(degree), LR())\n",
        "alpha = 0.1\n",
        "ridge2013 = R(alpha=alpha)\n",
        "alpha = 0.1\n",
        "lasso2013 = L(alpha=alpha)\n",
        "\n",
        "lasso2013.fit(x2013_train,y2013_train)\n",
        "poli_2013.fit(x2013_train,y2013_train)\n",
        "lin_reg2013.fit(x2013_train,y2013_train)\n",
        "rf_reg2013.fit(x2013_train,y2013_train)\n",
        "ridge2013.fit(x2013_train,y2013_train)\n",
        "tree2013.fit(x2013_train,y2013_train)"
      ],
      "metadata": {
        "id": "YXJYaKYfLTSM",
        "colab": {
          "base_uri": "https://localhost:8080/",
          "height": 75
        },
        "outputId": "971c4ce0-dfda-4a47-cbad-69f2548910ef"
      },
      "execution_count": null,
      "outputs": [
        {
          "output_type": "execute_result",
          "data": {
            "text/plain": [
              "DecisionTreeRegressor()"
            ],
            "text/html": [
              "<style>#sk-container-id-12 {color: black;background-color: white;}#sk-container-id-12 pre{padding: 0;}#sk-container-id-12 div.sk-toggleable {background-color: white;}#sk-container-id-12 label.sk-toggleable__label {cursor: pointer;display: block;width: 100%;margin-bottom: 0;padding: 0.3em;box-sizing: border-box;text-align: center;}#sk-container-id-12 label.sk-toggleable__label-arrow:before {content: \"▸\";float: left;margin-right: 0.25em;color: #696969;}#sk-container-id-12 label.sk-toggleable__label-arrow:hover:before {color: black;}#sk-container-id-12 div.sk-estimator:hover label.sk-toggleable__label-arrow:before {color: black;}#sk-container-id-12 div.sk-toggleable__content {max-height: 0;max-width: 0;overflow: hidden;text-align: left;background-color: #f0f8ff;}#sk-container-id-12 div.sk-toggleable__content pre {margin: 0.2em;color: black;border-radius: 0.25em;background-color: #f0f8ff;}#sk-container-id-12 input.sk-toggleable__control:checked~div.sk-toggleable__content {max-height: 200px;max-width: 100%;overflow: auto;}#sk-container-id-12 input.sk-toggleable__control:checked~label.sk-toggleable__label-arrow:before {content: \"▾\";}#sk-container-id-12 div.sk-estimator input.sk-toggleable__control:checked~label.sk-toggleable__label {background-color: #d4ebff;}#sk-container-id-12 div.sk-label input.sk-toggleable__control:checked~label.sk-toggleable__label {background-color: #d4ebff;}#sk-container-id-12 input.sk-hidden--visually {border: 0;clip: rect(1px 1px 1px 1px);clip: rect(1px, 1px, 1px, 1px);height: 1px;margin: -1px;overflow: hidden;padding: 0;position: absolute;width: 1px;}#sk-container-id-12 div.sk-estimator {font-family: monospace;background-color: #f0f8ff;border: 1px dotted black;border-radius: 0.25em;box-sizing: border-box;margin-bottom: 0.5em;}#sk-container-id-12 div.sk-estimator:hover {background-color: #d4ebff;}#sk-container-id-12 div.sk-parallel-item::after {content: \"\";width: 100%;border-bottom: 1px solid gray;flex-grow: 1;}#sk-container-id-12 div.sk-label:hover label.sk-toggleable__label {background-color: #d4ebff;}#sk-container-id-12 div.sk-serial::before {content: \"\";position: absolute;border-left: 1px solid gray;box-sizing: border-box;top: 0;bottom: 0;left: 50%;z-index: 0;}#sk-container-id-12 div.sk-serial {display: flex;flex-direction: column;align-items: center;background-color: white;padding-right: 0.2em;padding-left: 0.2em;position: relative;}#sk-container-id-12 div.sk-item {position: relative;z-index: 1;}#sk-container-id-12 div.sk-parallel {display: flex;align-items: stretch;justify-content: center;background-color: white;position: relative;}#sk-container-id-12 div.sk-item::before, #sk-container-id-12 div.sk-parallel-item::before {content: \"\";position: absolute;border-left: 1px solid gray;box-sizing: border-box;top: 0;bottom: 0;left: 50%;z-index: -1;}#sk-container-id-12 div.sk-parallel-item {display: flex;flex-direction: column;z-index: 1;position: relative;background-color: white;}#sk-container-id-12 div.sk-parallel-item:first-child::after {align-self: flex-end;width: 50%;}#sk-container-id-12 div.sk-parallel-item:last-child::after {align-self: flex-start;width: 50%;}#sk-container-id-12 div.sk-parallel-item:only-child::after {width: 0;}#sk-container-id-12 div.sk-dashed-wrapped {border: 1px dashed gray;margin: 0 0.4em 0.5em 0.4em;box-sizing: border-box;padding-bottom: 0.4em;background-color: white;}#sk-container-id-12 div.sk-label label {font-family: monospace;font-weight: bold;display: inline-block;line-height: 1.2em;}#sk-container-id-12 div.sk-label-container {text-align: center;}#sk-container-id-12 div.sk-container {/* jupyter's `normalize.less` sets `[hidden] { display: none; }` but bootstrap.min.css set `[hidden] { display: none !important; }` so we also need the `!important` here to be able to override the default hidden behavior on the sphinx rendered scikit-learn.org. See: https://github.com/scikit-learn/scikit-learn/issues/21755 */display: inline-block !important;position: relative;}#sk-container-id-12 div.sk-text-repr-fallback {display: none;}</style><div id=\"sk-container-id-12\" class=\"sk-top-container\"><div class=\"sk-text-repr-fallback\"><pre>DecisionTreeRegressor()</pre><b>In a Jupyter environment, please rerun this cell to show the HTML representation or trust the notebook. <br />On GitHub, the HTML representation is unable to render, please try loading this page with nbviewer.org.</b></div><div class=\"sk-container\" hidden><div class=\"sk-item\"><div class=\"sk-estimator sk-toggleable\"><input class=\"sk-toggleable__control sk-hidden--visually\" id=\"sk-estimator-id-20\" type=\"checkbox\" checked><label for=\"sk-estimator-id-20\" class=\"sk-toggleable__label sk-toggleable__label-arrow\">DecisionTreeRegressor</label><div class=\"sk-toggleable__content\"><pre>DecisionTreeRegressor()</pre></div></div></div></div></div>"
            ]
          },
          "metadata": {},
          "execution_count": 51
        }
      ]
    },
    {
      "cell_type": "code",
      "source": [
        "#Teste IA\n",
        "\n",
        "test_lin2013 = lin_reg2013.predict(x2013_test)\n",
        "test_rf2013 = rf_reg2013.predict(x2013_test)\n",
        "test_tree2013 = tree2013.predict(x2013_test)\n",
        "test_lasso2013 = lasso2013.predict(x2013_test)\n",
        "test_poli2013 = ridge2013.predict(x2013_test)\n",
        "test_ridge2013 = poli_2013.predict(x2013_test)\n",
        "\n",
        "r2_lin2013 = metrics.r2_score(y2013_test,test_lin2013)\n",
        "rsme_lin2013 = np.sqrt(metrics.mean_squared_error(y2013_test,test_lin2013))\n",
        "\n",
        "r2_rf2013 = metrics.r2_score(y2013_test,test_rf2013)\n",
        "rsme_rf2013 = np.sqrt(metrics.mean_squared_error(y2013_test,test_rf2013))\n",
        "\n",
        "r2_tree2013 = metrics.r2_score(y2013_test,test_tree2013)\n",
        "rsme_tree2013 = np.sqrt(metrics.mean_squared_error(y2013_test,test_tree2013))\n",
        "\n",
        "r2_lasso2013 = metrics.r2_score(y2013_test,test_lasso2013)\n",
        "rsme_lasso2013 = np.sqrt(metrics.mean_squared_error(y2013_test,test_lasso2013))\n",
        "\n",
        "r2_ridge2013 = metrics.r2_score(y2013_test,test_ridge2013)\n",
        "rsme_ridge2013 = np.sqrt(metrics.mean_squared_error(y2013_test,test_ridge2013))\n",
        "\n",
        "r2_poli2013 = metrics.r2_score(y2013_test,test_poli2013)\n",
        "rsme_poli2013 = np.sqrt(metrics.mean_squared_error(y2013_test,test_poli2013))"
      ],
      "metadata": {
        "id": "20O0-S1qLTk0"
      },
      "execution_count": null,
      "outputs": []
    },
    {
      "cell_type": "code",
      "source": [
        "print(\"R2:\")\n",
        "print('Lin',r2_lin2013)\n",
        "print('rf',r2_rf2013)\n",
        "print('tree',r2_tree2013)\n",
        "print('lasso',r2_lasso2013)\n",
        "print('ridge',r2_ridge2013)\n",
        "print('poli',r2_poli2013)\n",
        "print(\"RSME:\")\n",
        "print('Lin',rsme_lin2013)\n",
        "print('rf',rsme_rf2013)\n",
        "print('tree',rsme_tree2013)\n",
        "print('lasso',rsme_lasso2013)\n",
        "print('ridge',rsme_ridge2013)\n",
        "print('poli',rsme_poli2013)"
      ],
      "metadata": {
        "id": "z2gWa8rNLTpx",
        "colab": {
          "base_uri": "https://localhost:8080/"
        },
        "outputId": "4208e779-44bf-4f79-b314-b55f4bc91d4f"
      },
      "execution_count": null,
      "outputs": [
        {
          "output_type": "stream",
          "name": "stdout",
          "text": [
            "R2:\n",
            "Lin 0.6176115497669193\n",
            "rf 0.3937343926136363\n",
            "tree 0.07087839609242434\n",
            "lasso 0.6176115497671003\n",
            "ridge 0.627937260645208\n",
            "poli 0.6176115497669196\n",
            "RSME:\n",
            "Lin 4313467262.315572\n",
            "rf 5711776656.201527\n",
            "tree 7085522317.9663725\n",
            "lasso 4313467262.315571\n",
            "ridge 4305648171.286657\n",
            "poli 4313467262.315572\n"
          ]
        }
      ]
    },
    {
      "cell_type": "code",
      "source": [
        "dados_gerar = [i for i in range(1,171913)]\n",
        "\n",
        "xr = pd.DataFrame(dados_gerar)\n",
        "xrt, xrtt, y2023_train, y2023_test = tts(xr,y2023,test_size=0.0581692959,random_state = 1)\n",
        "\n",
        "gerado2013 = lasso2013.predict(xrtt)\n",
        "df = pd.DataFrame(gerado2013, columns=['Source','Target','Weight'])\n",
        "df.to_csv('/content/drive/MyDrive/CR/resumo2013.csv',index=False)"
      ],
      "metadata": {
        "id": "iVzplnNMo1BU"
      },
      "execution_count": null,
      "outputs": []
    }
  ]
}